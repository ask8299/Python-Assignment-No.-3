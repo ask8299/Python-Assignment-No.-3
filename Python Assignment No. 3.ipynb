{
 "cells": [
  {
   "cell_type": "markdown",
   "metadata": {},
   "source": [
    "# Question No. 1\n",
    "Write down a program in Python for Opening a File and Writing \" I Love LetsUpgrade\" And close\n",
    "it, and read it back again, and then append some data to it and close it."
   ]
  },
  {
   "cell_type": "code",
   "execution_count": 10,
   "metadata": {},
   "outputs": [
    {
     "name": "stdout",
     "output_type": "stream",
     "text": [
      "I Love LetsUpgrade\n",
      "I Love LetsUpgrade HIIII\n"
     ]
    }
   ],
   "source": [
    "File1 = open(\"FirstFile.txt\",\"w\")\n",
    "File1.write(\"I Love LetsUpgrade\")\n",
    "File1.close()\n",
    "\n",
    "File1 = open(\"FirstFile.txt\",\"r\")\n",
    "Data=File1.read()\n",
    "print(Data)\n",
    "\n",
    "File1 = open(\"FirstFile.txt\",\"a\")\n",
    "File1.write(\" HIIII\")\n",
    "\n",
    "File1 = open(\"FirstFile.txt\",\"r\")\n",
    "Data1=File1.read()\n",
    "print(Data1)\n",
    "\n",
    "File1.close()\n"
   ]
  },
  {
   "cell_type": "markdown",
   "metadata": {},
   "source": [
    "# Question No. 2\n",
    "Write a function which can return a Factorial of any numbers as INT, given in the argument."
   ]
  },
  {
   "cell_type": "code",
   "execution_count": 5,
   "metadata": {},
   "outputs": [
    {
     "name": "stdout",
     "output_type": "stream",
     "text": [
      "Enter Number 3\n",
      "6\n"
     ]
    }
   ],
   "source": [
    "def factorial(n):\n",
    "    fact=1\n",
    "    for i in range(1,n+1):\n",
    "        fact = fact*i\n",
    "    return fact\n",
    "\n",
    "value = int(input(\"Enter Number \"))\n",
    "INT = factorial(value)\n",
    "print(INT)"
   ]
  }
 ],
 "metadata": {
  "kernelspec": {
   "display_name": "Python 3",
   "language": "python",
   "name": "python3"
  },
  "language_info": {
   "codemirror_mode": {
    "name": "ipython",
    "version": 3
   },
   "file_extension": ".py",
   "mimetype": "text/x-python",
   "name": "python",
   "nbconvert_exporter": "python",
   "pygments_lexer": "ipython3",
   "version": "3.7.7"
  }
 },
 "nbformat": 4,
 "nbformat_minor": 4
}
